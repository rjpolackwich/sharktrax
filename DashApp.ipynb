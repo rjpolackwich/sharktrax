{
 "cells": [
  {
   "cell_type": "code",
   "execution_count": 2,
   "id": "0a1e4463-cec0-4e29-89a6-daf165cdebab",
   "metadata": {},
   "outputs": [],
   "source": [
    "from jupyter_dash import JupyterDash"
   ]
  },
  {
   "cell_type": "code",
   "execution_count": 3,
   "id": "77671b6c-5f0e-44d7-ba7b-2927f81cfc32",
   "metadata": {},
   "outputs": [],
   "source": [
    "import dash\n",
    "from dash import html\n",
    "import dash_leaflet as dl\n",
    "\n",
    "import numpy as np\n",
    "import pandas as pd"
   ]
  },
  {
   "cell_type": "code",
   "execution_count": null,
   "id": "21487c6b-c30c-4de3-889c-aacbbfc7351e",
   "metadata": {},
   "outputs": [],
   "source": [
    "sample_data_path = \"/Users/jamiepolackwich1/projects/sharktrax/shark_shit.xlsx\""
   ]
  },
  {
   "cell_type": "code",
   "execution_count": 6,
   "id": "c9cfd483-dbe1-4e71-b151-915d66469e31",
   "metadata": {},
   "outputs": [],
   "source": [
    "d = pd.read_excel(sample_data_path, sheet_name=[\"SS1\", \"SS2\", \"SS3\"])\n",
    "s1 = d[\"SS1\"]\n",
    "s2 = d[\"SS2\"]\n",
    "s3 = d[\"SS3\"]"
   ]
  },
  {
   "cell_type": "code",
   "execution_count": null,
   "id": "2718686b-e095-4d63-85ee-9d7bf612f993",
   "metadata": {},
   "outputs": [],
   "source": []
  },
  {
   "cell_type": "code",
   "execution_count": 7,
   "id": "7795e196-bc0a-40de-a49b-ba570fb8022a",
   "metadata": {},
   "outputs": [],
   "source": [
    "s1.rename(columns={\"Loc. quality\": \"Quality\", \"Loc. date\": \"Timestamp\"}, inplace=True)\n",
    "s1.drop_duplicates(inplace=True, ignore_index=True)\n",
    "\n",
    "s2.rename(columns={\"Loc. quality\": \"Quality\", \"Loc. date\": \"Timestamp\"}, inplace=True)\n",
    "s2.drop_duplicates(inplace=True, ignore_index=True)\n",
    "\n",
    "s3.rename(columns={\"Loc. quality\": \"Quality\", \"Loc. date\": \"Timestamp\"}, inplace=True)\n",
    "s3.drop_duplicates(inplace=True, ignore_index=True)"
   ]
  },
  {
   "cell_type": "code",
   "execution_count": 8,
   "id": "21ac7db0-a5b0-4657-b37e-896c4d9c6ceb",
   "metadata": {},
   "outputs": [],
   "source": [
    "def rgb2hex(r, g, b):\n",
    "    return f\"#{r:02x}{g:02x}{b:02x}\"\n",
    "\n",
    "def hex2rbg(hx):\n",
    "    return (int(hx[0:2, 16]), int(hx[2:4], 16), int(hx[4:6], 16))\n",
    "\n",
    "def rgb2uint8(x):\n",
    "    return [int(np.round(255*_)) for _ in x]"
   ]
  },
  {
   "cell_type": "code",
   "execution_count": 9,
   "id": "94bd2125-fca5-4913-8a45-150bfdc52b10",
   "metadata": {},
   "outputs": [],
   "source": [
    "def build_polyline(df, color='red'):\n",
    "    positions = [[row.Latitude, row.Longitude] for row in df.itertuples()]\n",
    "    return dl.Polyline(positions=positions, color=color)\n",
    "    "
   ]
  },
  {
   "cell_type": "code",
   "execution_count": 10,
   "id": "0b1a77d6-60f2-46d3-9a8c-28fc067c1725",
   "metadata": {},
   "outputs": [],
   "source": [
    "s1trax = build_polyline(s1)\n",
    "s2trax = build_polyline(s2, color='black')\n",
    "s3trax = build_polyline(s3, color='violet')"
   ]
  },
  {
   "cell_type": "code",
   "execution_count": 11,
   "id": "a37168a5-4698-491d-833d-44e1af13231a",
   "metadata": {},
   "outputs": [],
   "source": [
    "app = JupyterDash(__name__)\n",
    "\n",
    "# Create server variable with Flask server object for use with gunicorn\n",
    "server = app.server"
   ]
  },
  {
   "cell_type": "code",
   "execution_count": 12,
   "id": "ec313c51-deb9-4661-b112-b986f9626f1e",
   "metadata": {},
   "outputs": [],
   "source": [
    "app.layout = html.Div(\n",
    "    dl.Map(\n",
    "        [dl.TileLayer(), s1trax, s2trax, s3trax],\n",
    "        zoom=4, \n",
    "        center=(s1.Latitude.mean(), s1.Longitude.mean())),\n",
    "    style={'width': '100%', 'height': '50vh', 'margin': \"auto\", \"display\": \"block\"}\n",
    ")"
   ]
  },
  {
   "cell_type": "code",
   "execution_count": 13,
   "id": "b34bd795-17e6-4de4-b759-e9f41b44614c",
   "metadata": {},
   "outputs": [
    {
     "name": "stdout",
     "output_type": "stream",
     "text": [
      "Dash app running on http://127.0.0.1:8050/\n"
     ]
    }
   ],
   "source": [
    "app.run_server()"
   ]
  },
  {
   "cell_type": "code",
   "execution_count": null,
   "id": "4a76edcb-5d64-406b-806f-d5b171523d17",
   "metadata": {},
   "outputs": [],
   "source": []
  }
 ],
 "metadata": {
  "kernelspec": {
   "display_name": "Python 3 (ipykernel)",
   "language": "python",
   "name": "python3"
  },
  "language_info": {
   "codemirror_mode": {
    "name": "ipython",
    "version": 3
   },
   "file_extension": ".py",
   "mimetype": "text/x-python",
   "name": "python",
   "nbconvert_exporter": "python",
   "pygments_lexer": "ipython3",
   "version": "3.9.12"
  }
 },
 "nbformat": 4,
 "nbformat_minor": 5
}
