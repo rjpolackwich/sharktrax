{
 "cells": [
  {
   "cell_type": "markdown",
   "id": "857ba1f8-4aec-4287-921b-f6b74bd59a2b",
   "metadata": {},
   "source": [
    "# Getting Started Getting Started with Sharktrax\n",
    "\n",
    "A conceptual and (biased) technical guide to getting up and running with your python development in general, written for newcomers, but also sharktrax.\n",
    "\n",
    "## Preface\n",
    "\n",
    "There are a lot of unnecessry barriers-to-entry to becoming productive with code-based projects for people just starting out. It shouldn't be like that. In the following sections, I'll give a brief overview of the kinds of tools and concepts you'll need to have and understand in order to set yourself up for success with this project and any others your future may hold.\n",
    "\n",
    "**NOTE**: There are an almost infinite different coding/production environments, with thousands of different tools available for any particular job. The coding \"environment\" landscape is one of the most-discussed, fought-over, and constantly evolving topics in software. There are armies that go to war over everything, from what computer is best, what language is best, [what editor is best](https://www.youtube.com/watch?v=3r1z5NDXU3s), to what cloud host is best, what spreadsheet software is best (*You use Excel? psh, learn to code*) etc. It's true, there are many choices to make, but for now, don't worry too much about what you hear or read about one thing vs another. As you get more comfortable using and grasping the tools of the trade, you can start to experiment with the different options out there, and you'll find what works best for you and what it is you want to do in the future. But for now, just follow my lead and lend me your trust -- I'm going to tell you how to do things.\n",
    "\n",
    "**NOTE** All of the software/applications mentioned below, including those powering the sharktrax project, are [OSS](https://opensource.com/resources/what-open-source). One of the most important aspects to becoming an empowered developer is learning about what projects exist out there, and becoming familiar using the some of the fundamental packages in the various fields (data science, visualization, web dev, etc) that are relevant to your interests. Just about anything you could ever wish for exists as OSS, so be wary of anything that costs money to use... unless, you know, somebody else pays for it for you.\n",
    "\n",
    "## Getting Started\n",
    "\n",
    "There's a notion among non-developer folk that software development is programming, which is writing code. That's true of course: to write working software in a coding language, it's important to understand how to use that coding language, or else you won't be able to express what you want to do correctly. These days, there are seemingly unlimited resources out there that can take you from zero to hero in whatever language you want to learn, and come in the form of books, videos, interactive courses, etc. They're all awesome, and you've hopefully taken advantage of some of them already. That abundance of free learning resources didn't always exist! 2022 is an amazing time to learn how to write code. \n",
    "\n",
    "But speaking the language and putting it to use are different things. There are other, equally important tools and workflows you'll need to be able to build things, solve problems, and empower yourself creatively. But they don't tell you about that when you start out, or at least that was my experience. The first python function I ever wrote, following along with an online course, was (of course):\n",
    "\n",
    "```\n",
    "def hello_world():\n",
    "    print(\"hello world!\")\n",
    "```\n",
    "\n",
    "I wrote it, and then... what now? How do I run this? That was a long time ago, and now there are lots of cool editors with built-in \"run\" buttons, but I couldn't for the life of me figure out how to execute the python exercises in the course. Frankly, I didn't even know what it even *meant* to execute a python program. \n",
    "\n",
    "That's because I didn't know what I didn't know. Now I'm a salty programmer who has seen many seas and weathered many storms. The following is a map meant to take any newcomer to the helm as the captain of their own ship.\n",
    "\n",
    "## The Basics\n",
    "\n",
    "These are the two fundamental tools you need to write code and run code. Traditionally, code is written to a file using an editor. That code is then \"run\" in the terminal, by referencing the code file you wrote with your editor.\n",
    "\n",
    "#### The Editor\n",
    "\n",
    "First thing's first: to write code, you need something to write on. Technically, you could use Microsoft Word. But there's auto-formatting, auto-correct, and all kinds of other built-in stuff there that will make getting your formatting right impossibly frustrating and time consuming. Fortunately, there are editors out there specifically designed for efficient code writing; some of them are extremely powerful, others minimal, and some are easy to get started with, while others require steep learning curves to be able to work with. Working with a good editor is critical to being productive. For beginners, I recommend [Sublime Text](https://www.sublimetext.com/) or [Pycharm](jetbrains.com/pycharm/). Both of those have come a long way over the years, and they're not just for beginners anymore - these days many wizened and experienced programmers opt for them for their built-in features. Both have free versions.\n",
    "\n",
    "#### The Terminal\n",
    "\n",
    "The terminal is that screen you see hackers furiously typing into while green text streams over a black background in movies. "
   ]
  },
  {
   "cell_type": "code",
   "execution_count": null,
   "id": "6bc206c5-bf56-43e8-b3aa-83fa1afa539d",
   "metadata": {},
   "outputs": [],
   "source": []
  }
 ],
 "metadata": {
  "kernelspec": {
   "display_name": "Python 3 (ipykernel)",
   "language": "python",
   "name": "python3"
  },
  "language_info": {
   "codemirror_mode": {
    "name": "ipython",
    "version": 3
   },
   "file_extension": ".py",
   "mimetype": "text/x-python",
   "name": "python",
   "nbconvert_exporter": "python",
   "pygments_lexer": "ipython3",
   "version": "3.9.12"
  }
 },
 "nbformat": 4,
 "nbformat_minor": 5
}
